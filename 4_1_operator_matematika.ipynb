{
  "nbformat": 4,
  "nbformat_minor": 0,
  "metadata": {
    "colab": {
      "name": "4_1_operator_matematika.ipynb",
      "provenance": [],
      "collapsed_sections": []
    },
    "kernelspec": {
      "name": "python3",
      "display_name": "Python 3"
    }
  },
  "cells": [
    {
      "cell_type": "code",
      "metadata": {
        "id": "f7WajviOKztl"
      },
      "source": [
        ""
      ],
      "execution_count": null,
      "outputs": []
    },
    {
      "cell_type": "markdown",
      "metadata": {
        "id": "Zf9uJW37LCfb"
      },
      "source": [
        "**Praktek Operasi Matematika**\n",
        "\n",
        "Pada praktek ini kita akan mencoba semua operator matematika.\n",
        "\n",
        "Praktek pada sesi kali ini akan menekankan bagaimana menggunakan operator langsung diimplementasikan dengan variable.\n",
        "\n",
        "Implementasikan code di bawah ini pada kode cell editor:\n",
        "``` javascript\n",
        "a=10\n",
        "b=5\n",
        "selisih = a-b\n",
        "jumlah = a+b\n",
        "kali = a*b\n",
        "bagi = a/b\n",
        "print(\"Hasil penjumlahan dan b adalah\", jumlah)\n",
        "print(\"Selisih a dan b adalah :\",selisih)\n",
        "print(\"Hasil perkalian a dan b adalah :\",kali)\n",
        "print(\"Hasil  pembagian a dan b adalah:\",bagi)\n",
        "\n",
        "``` \n",
        " \n",
        "\n",
        "Ketikan code cell di bawah ini pada editor:"
      ]
    },
    {
      "cell_type": "code",
      "metadata": {
        "id": "hYGfkiKOMo_x",
        "outputId": "bfca0db8-faa3-4109-eec7-595637a24fdd",
        "colab": {
          "base_uri": "https://localhost:8080/"
        }
      },
      "source": [
        "a=10\n",
        "b=5\n",
        "selisih = a-b\n",
        "jumlah = a+b\n",
        "kali = a*b\n",
        "bagi = a/b\n",
        "print(\"Hasil penjumlahan dan b adalah\", jumlah)\n",
        "print(\"Selisih a dan b adalah :\",selisih)\n",
        "print(\"Hasil perkalian a dan b adalah :\",kali)\n",
        "print(\"Hasil  pembagian a dan b adalah:\",bagi)"
      ],
      "execution_count": 3,
      "outputs": [
        {
          "output_type": "stream",
          "name": "stdout",
          "text": [
            "Hasil penjumlahan dan b adalah 15\n",
            "Selisih a dan b adalah : 5\n",
            "Hasil perkalian a dan b adalah : 50\n",
            "Hasil  pembagian a dan b adalah: 2.0\n"
          ]
        }
      ]
    }
  ]
}